{
 "cells": [
  {
   "cell_type": "code",
   "execution_count": null,
   "metadata": {},
   "outputs": [
    {
     "ename": "",
     "evalue": "",
     "output_type": "error",
     "traceback": [
      "\u001b[1;31m运行具有“d:\\python\\python.exe”的单元格需要ipykernel包。\n",
      "\u001b[1;31mRun the following command to install 'ipykernel' into the Python environment. \n",
      "\u001b[1;31mCommand: 'd:/python/python.exe -m pip install ipykernel -U --user --force-reinstall'"
     ]
    }
   ],
   "source": [
    "import pandas as pd\n",
    "import numpy as np\n",
    "df=pd.read_csv(\"train.csv\")\n",
    "test=pd.read_csv(\"test.csv\")\n",
    "df['subscribe'].value_counts() \n"
   ]
  },
  {
   "cell_type": "code",
   "execution_count": null,
   "metadata": {},
   "outputs": [
    {
     "ename": "",
     "evalue": "",
     "output_type": "error",
     "traceback": [
      "\u001b[1;31m运行具有“d:\\python\\python.exe”的单元格需要ipykernel包。\n",
      "\u001b[1;31mRun the following command to install 'ipykernel' into the Python environment. \n",
      "\u001b[1;31mCommand: 'd:/python/python.exe -m pip install ipykernel -U --user --force-reinstall'"
     ]
    }
   ],
   "source": [
    "import pandas as pd\n",
    "\n",
    "file_path = 'train.csv'\n",
    "\n",
    "file_path1 = 'test.csv'\n",
    "# 将 CSV 文件加载到 pandas DataFrame 中\n",
    "df = pd.read_csv(file_path)\n",
    "\n",
    "# 检查缺失值\n",
    "missing_values = df.isnull().sum()\n",
    "\n",
    "# 打印每列的缺失值数量'''  '''\n",
    "print(\"每列的缺失值数量:\")\n",
    "print(missing_values)\n"
   ]
  },
  {
   "cell_type": "code",
   "execution_count": null,
   "metadata": {},
   "outputs": [
    {
     "ename": "",
     "evalue": "",
     "output_type": "error",
     "traceback": [
      "\u001b[1;31m运行具有“d:\\python\\python.exe”的单元格需要ipykernel包。\n",
      "\u001b[1;31mRun the following command to install 'ipykernel' into the Python environment. \n",
      "\u001b[1;31mCommand: 'd:/python/python.exe -m pip install ipykernel -U --user --force-reinstall'"
     ]
    }
   ],
   "source": [
    "\n",
    "import pandas as pd\n",
    "import numpy as np\n",
    "df=pd.read_csv(\"train.csv\")\n",
    "\n",
    "import matplotlib.pyplot as plt       \n",
    "import seaborn as sns\n",
    "bins=[0,143,353,1873,5149]\n",
    "df1=df[df['subscribe']=='yes']\n",
    "binning=pd.cut(df1['duration'],bins,right=False)\n",
    "time=pd.value_counts(binning)\n",
    "# 可视化\n",
    "time=time.sort_index()\n",
    "fig=plt.figure(figsize=(6,2),dpi=120)\n",
    "sns.barplot(x=time.index, y=time.values, color='royalblue')\n",
    "\n",
    "x=np.arange(len(time))\n",
    "y=time.values\n",
    "for x_loc,jobs in zip(x,y):\n",
    "    plt.text(x_loc, jobs+2, '{:.1f}%'.format(jobs/sum(time)*100), ha='center', va= 'bottom',fontsize=8)\n",
    "plt.xticks(fontsize=8)\n",
    "plt.yticks([])\n",
    "plt.ylabel('')\n",
    "plt.title('duration_yes',size=8)\n",
    "sns.despine(left=True)\n",
    "plt.show()"
   ]
  },
  {
   "cell_type": "code",
   "execution_count": null,
   "metadata": {},
   "outputs": [
    {
     "ename": "",
     "evalue": "",
     "output_type": "error",
     "traceback": [
      "\u001b[1;31m运行具有“d:\\python\\python.exe”的单元格需要ipykernel包。\n",
      "\u001b[1;31mRun the following command to install 'ipykernel' into the Python environment. \n",
      "\u001b[1;31mCommand: 'd:/python/python.exe -m pip install ipykernel -U --user --force-reinstall'"
     ]
    }
   ],
   "source": [
    "import pandas as pd\n",
    "import numpy as np\n",
    "import matplotlib.pyplot as plt\n",
    "import seaborn as sns\n",
    "\n",
    "# 读取数据\n",
    "df = pd.read_csv(\"train.csv\")\n",
    "\n",
    "# 定义区间\n",
    "bins = [0, 143, 353, 1873, 5149]\n",
    "\n",
    "# 根据 'duration' 列进行分组\n",
    "df['duration_bin'] = pd.cut(df['duration'], bins, right=False)\n",
    "\n",
    "# 筛选 'subscribe' 列为 'yes' 的数据\n",
    "df_yes = df[df['subscribe'] == 'yes']\n",
    "\n",
    "# 使用 groupby 计算每个区间内 'yes' 的数量\n",
    "yes_counts = df_yes.groupby('duration_bin').size().reset_index(name='yes_count')\n",
    "\n",
    "# 输出结果\n",
    "print(yes_counts)\n"
   ]
  },
  {
   "cell_type": "code",
   "execution_count": null,
   "metadata": {},
   "outputs": [
    {
     "ename": "",
     "evalue": "",
     "output_type": "error",
     "traceback": [
      "\u001b[1;31m运行具有“d:\\python\\python.exe”的单元格需要ipykernel包。\n",
      "\u001b[1;31mRun the following command to install 'ipykernel' into the Python environment. \n",
      "\u001b[1;31mCommand: 'd:/python/python.exe -m pip install ipykernel -U --user --force-reinstall'"
     ]
    }
   ],
   "source": [
    "import pandas as pd\n",
    "import numpy as np\n",
    "import matplotlib.pyplot as plt\n",
    "import seaborn as sns\n",
    "\n",
    "# 读取数据\n",
    "df = pd.read_csv(\"train.csv\")SA\n",
    "\n",
    "# 分离数值变量与分类变量\n",
    "Nu_feature = list(df.select_dtypes(exclude=['object']).columns)  \n",
    "Ca_feature = list(df.select_dtypes(include=['object']).columns)\n",
    "#查看训练集与测试集数值变量分布\n",
    "import matplotlib.pyplot as plt       \n",
    "import seaborn as sns\n",
    "import warnings\n",
    "warnings.filterwarnings(\"ignore\")\n",
    "plt.figure(figsize=(20,15))\n",
    "i=1\n",
    "for col in Nu_feature:\n",
    "    ax=plt.subplot(4,4,i)\n",
    "    ax=sns.kdeplot(df[col],color='red')\n",
    "    ax=sns.kdeplot(test[col],color='cyan')\n",
    "    ax.set_xlabel(col)\n",
    "    ax.set_ylabel('Frequency')\n",
    "    ax=ax.legend(['train','test'])\n",
    "    i+=1\n",
    "plt.show()\n",
    "# 查看分类变量分布\n",
    "Ca_feature.remove('subscribe')\n",
    "col1=Ca_feature\n",
    "plt.figure(figsize=(20,10))\n",
    "j=1\n",
    "for col in col1:\n",
    "    ax=plt.subplot(4,5,j)\n",
    "    ax=plt.scatter(x=range(len(df)),y=df[col],color='red')\n",
    "    plt.title(col)\n",
    "    j+=1\n",
    "k=11\n",
    "for col in col1:\n",
    "    ax=plt.subplot(4,5,k)\n",
    "    ax=plt.scatter(x=range(len(test)),y=test[col],color='cyan')\n",
    "    plt.title(col)\n",
    "    k+=1\n",
    "plt.subplots_adjust(wspace=0.4,hspace=0.3)  \n",
    "plt.show()"
   ]
  },
  {
   "cell_type": "code",
   "execution_count": null,
   "metadata": {},
   "outputs": [
    {
     "ename": "",
     "evalue": "",
     "output_type": "error",
     "traceback": [
      "\u001b[1;31m运行具有“d:\\python\\python.exe”的单元格需要ipykernel包。\n",
      "\u001b[1;31mRun the following command to install 'ipykernel' into the Python environment. \n",
      "\u001b[1;31mCommand: 'd:/python/python.exe -m pip install ipykernel -U --user --force-reinstall'"
     ]
    }
   ],
   "source": [
    "from sklearn.preprocessing import LabelEncoder\n",
    "import pandas as pd\n",
    "import numpy as np\n",
    "import matplotlib.pyplot as plt\n",
    "import seaborn as sns\n",
    "\n",
    "# 读取数据\n",
    "df = pd.read_csv(\"train.csv\")\n",
    "lb = LabelEncoder()\n",
    "\n",
    "# 假设 Ca_feature 是你的某些列的列表\n",
    "cols = Ca_feature\n",
    "for m in cols:\n",
    "    df[m] = lb.fit_transform(df[m])\n",
    "    # 假设 test 是你的测试数据集\n",
    "    test[m] = lb.fit_transform(test[m])\n",
    "\n",
    "df['subscribe'] = df['subscribe'].replace(['no', 'yes'], [0, 1])\n",
    "\n",
    "correlation_matrix = df.corr()\n",
    "\n",
    "# 设置样式为\"whitegrid\"\n",
    "sns.set_style(\"whitegrid\")\n",
    "\n",
    "# 设置图形大小\n",
    "plt.figure(figsize=(12, 10))\n",
    "\n",
    "# 绘制热力图\n",
    "sns.heatmap(correlation_matrix, vmax=0.9, linewidths=0.05, cmap=\"coolwarm\", annot=True, fmt=\".2f\")\n",
    "\n",
    "\n",
    "# 显示图形\n",
    "plt.show()\n"
   ]
  },
  {
   "cell_type": "code",
   "execution_count": null,
   "metadata": {},
   "outputs": [
    {
     "ename": "",
     "evalue": "",
     "output_type": "error",
     "traceback": [
      "\u001b[1;31m运行具有“d:\\python\\python.exe”的单元格需要ipykernel包。\n",
      "\u001b[1;31mRun the following command to install 'ipykernel' into the Python environment. \n",
      "\u001b[1;31mCommand: 'd:/python/python.exe -m pip install ipykernel -U --user --force-reinstall'"
     ]
    }
   ],
   "source": [
    "from lightgbm.sklearn import LGBMClassifier\n",
    "from sklearn.model_selection import train_test_split\n",
    "from sklearn.model_selection import KFold\n",
    "from sklearn.metrics import accuracy_score, auc, roc_auc_score\n",
    "from sklearn.preprocessing import LabelEncoder\n",
    "import pandas as pd\n",
    "import numpy as np\n",
    "import matplotlib.pyplot as plt\n",
    "import seaborn as sns\n",
    "\n",
    "# 读取数据\n",
    "df = pd.read_csv(\"train.csv\")\n",
    "lb = LabelEncoder()\n",
    "X=df.drop(columns=['id','subscribe'])\n",
    "Y=df['subscribe']\n",
    "test=test.drop(columns='id')\n",
    "# 划分训练及测试集\n",
    "x_train,x_test,y_train,y_test = train_test_split( X, Y,test_size=0.3,random_state=1)\n",
    "# 建立模型\n",
    "gbm = LGBMClassifier(n_estimators=600,learning_rate=0.01,boosting_type= 'gbdt',   \n",
    "    objective = 'binary',\n",
    "    max_depth = -1,  \n",
    "    random_state=2022,           \n",
    "    metric='auc')\n",
    "# 交叉验证\n",
    "result1 = []\n",
    "mean_score1 = 0\n",
    "n_folds=5\n",
    "kf = KFold(n_splits=n_folds ,shuffle=True,random_state=2022)\n",
    "for train_index, test_index in kf.split(X):\n",
    "    x_train = X.iloc[train_index]\n",
    "    y_train = Y.iloc[train_index]\n",
    "    x_test = X.iloc[test_index]\n",
    "    y_test = Y.iloc[test_index]\n",
    "    gbm.fit(x_train,y_train)\n",
    "    y_pred1=gbm.predict_proba((x_test),num_iteration=gbm.best_iteration_)[:,1]\n",
    "    print('验证集AUC:{}'.format(roc_auc_score(y_test,y_pred1)))\n",
    "    mean_score1 += roc_auc_score(y_test,y_pred1)/ n_folds\n",
    "    y_pred_final1 = gbm.predict_proba((test),num_iteration=gbm.best_iteration_)[:,1]\n",
    "    y_pred_test1=y_pred_final1\n",
    "    result1.append(y_pred_test1)\n",
    "# 模型评估\n",
    "print('mean 验证集auc:{}'.format(mean_score1))\n",
    "cat_pre1=sum(result1)/n_folds\n",
    "ret1=pd.DataFrame(cat_pre1,columns=['subscribe'])\n",
    "ret1['subscribe']=np.where(ret1['subscribe']>0.5,'yes','no').astype('str')\n",
    "ret1.to_csv('GBM预测.csv',index=False)"
   ]
  }
 ],
 "metadata": {
  "kernelspec": {
   "display_name": "Python 3",
   "language": "python",
   "name": "python3"
  },
  "language_info": {
   "codemirror_mode": {
    "name": "ipython",
    "version": 3
   },
   "file_extension": ".py",
   "mimetype": "text/x-python",
   "name": "python",
   "nbconvert_exporter": "python",
   "pygments_lexer": "ipython3",
   "version": "3.10.10"
  }
 },
 "nbformat": 4,
 "nbformat_minor": 2
}
